{
 "cells": [
  {
   "cell_type": "code",
   "execution_count": 3,
   "metadata": {},
   "outputs": [
    {
     "data": {
      "text/plain": [
       "(         id  score\n",
       " 0  001519c8    3.5\n",
       " 1  0022f953    3.5\n",
       " 2  0042269b    6.0\n",
       " 3  0059420b    2.0\n",
       " 4  0075873a    4.0,\n",
       "          id  event_id  down_time  up_time  action_time       activity  \\\n",
       " 0  001519c8         1       4526     4557           31  Nonproduction   \n",
       " 1  001519c8         2       4558     4962          404  Nonproduction   \n",
       " 2  001519c8         3     106571   106571            0  Nonproduction   \n",
       " 3  001519c8         4     106686   106777           91          Input   \n",
       " 4  001519c8         5     107196   107323          127          Input   \n",
       " \n",
       "   down_event   up_event text_change  cursor_position  word_count  \n",
       " 0  Leftclick  Leftclick    NoChange                0           0  \n",
       " 1  Leftclick  Leftclick    NoChange                0           0  \n",
       " 2      Shift      Shift    NoChange                0           0  \n",
       " 3          q          q           q                1           1  \n",
       " 4          q          q           q                2           1  ,\n",
       "          id  score\n",
       " 0  0000aaaa    1.0\n",
       " 1  2222bbbb    2.0\n",
       " 2  4444cccc    3.0,\n",
       "          id  event_id  down_time  up_time  action_time activity down_event  \\\n",
       " 0  0000aaaa         1     338433   338518           85    Input      Space   \n",
       " 1  0000aaaa         2     760073   760160           87    Input      Space   \n",
       " 2  2222bbbb         1     711956   712023           67    Input          q   \n",
       " 3  2222bbbb         2     290502   290548           46    Input          q   \n",
       " 4  4444cccc         1     635547   635641           94    Input      Space   \n",
       " \n",
       "   up_event text_change  cursor_position  word_count  \n",
       " 0    Space                            0           0  \n",
       " 1    Space                            1           0  \n",
       " 2        q           q                0           1  \n",
       " 3        q           q                1           1  \n",
       " 4    Space                            0           0  )"
      ]
     },
     "execution_count": 3,
     "metadata": {},
     "output_type": "execute_result"
    }
   ],
   "source": [
    "import pandas as pd\n",
    "\n",
    "# File paths for the uploaded files\n",
    "train_scores_path = 'train_scores.csv'\n",
    "train_logs_path = 'train_logs.csv'\n",
    "sample_submission_path = 'sample_submission.csv'\n",
    "test_logs_path = 'test_logs.csv'\n",
    "\n",
    "# Loading the data into Pandas DataFrames\n",
    "train_scores = pd.read_csv(train_scores_path)\n",
    "train_logs = pd.read_csv(train_logs_path)\n",
    "sample_submission = pd.read_csv(sample_submission_path)\n",
    "test_logs = pd.read_csv(test_logs_path)\n",
    "\n",
    "# Display the first few rows of each DataFrame to understand their structure\n",
    "train_scores.head(), train_logs.head(), sample_submission.head(), test_logs.head()"
   ]
  }
 ],
 "metadata": {
  "kernelspec": {
   "display_name": "base",
   "language": "python",
   "name": "python3"
  },
  "language_info": {
   "codemirror_mode": {
    "name": "ipython",
    "version": 3
   },
   "file_extension": ".py",
   "mimetype": "text/x-python",
   "name": "python",
   "nbconvert_exporter": "python",
   "pygments_lexer": "ipython3",
   "version": "3.11.4"
  }
 },
 "nbformat": 4,
 "nbformat_minor": 2
}
